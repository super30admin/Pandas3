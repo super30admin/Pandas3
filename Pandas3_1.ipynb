{
  "nbformat": 4,
  "nbformat_minor": 0,
  "metadata": {
    "colab": {
      "provenance": []
    },
    "kernelspec": {
      "name": "python3",
      "display_name": "Python 3"
    },
    "language_info": {
      "name": "python"
    }
  },
  "cells": [
    {
      "cell_type": "code",
      "execution_count": null,
      "metadata": {
        "id": "N_r889SsMk00"
      },
      "outputs": [],
      "source": [
        "import pandas as pd\n",
        "\n",
        "def calculate_special_bonus(employees: pd.DataFrame) -> pd.DataFrame:\n",
        "    l = {}\n",
        "    for i in employees['employee_id']:\n",
        "        if i % 2 != 0 and employees['name'][len(l)][0] != 'M':\n",
        "            l[employees['employee_id'][len(l)]] = employees['salary'][len(l)]\n",
        "        else:\n",
        "            l[employees['employee_id'][len(l)]] = 0\n",
        "    result_df = pd.DataFrame(list(l.items()), columns=['employee_id', 'bonus'])\n",
        "    return result_df.sort_values(by = 'employee_id')\n",
        "\n",
        "    # j = 0\n",
        "    # l = {}\n",
        "    # for i in employees['employee_id']:\n",
        "    #     if i % 2 != 0 and employees['name'][j][0] != 'M':\n",
        "    #         l[employees['employee_id'][j]] = employees['salary'][j]\n",
        "    #     else:\n",
        "    #         l[employees['employee_id'][j]] = 0\n",
        "    #     j += 1\n",
        "    # result_df = pd.DataFrame(list(l.items()), columns=['employee_id', 'bonus'])\n",
        "    # return result_df.sort_values(by = 'employee_id')"
      ]
    }
  ]
}