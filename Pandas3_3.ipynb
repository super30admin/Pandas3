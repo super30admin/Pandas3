{
  "nbformat": 4,
  "nbformat_minor": 0,
  "metadata": {
    "colab": {
      "provenance": []
    },
    "kernelspec": {
      "name": "python3",
      "display_name": "Python 3"
    },
    "language_info": {
      "name": "python"
    }
  },
  "cells": [
    {
      "cell_type": "code",
      "execution_count": null,
      "metadata": {
        "id": "N_r889SsMk00"
      },
      "outputs": [],
      "source": [
        "import pandas as pd\n",
        "\n",
        "def find_patients(patients: pd.DataFrame) -> pd.DataFrame:\n",
        "    return patients[patients['conditions'].str.contains(r'\\bDIAB1')]"
      ]
    }
  ]
}